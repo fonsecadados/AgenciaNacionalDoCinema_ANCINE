{
 "cells": [
  {
   "cell_type": "code",
   "execution_count": 2,
   "id": "65c472c5",
   "metadata": {},
   "outputs": [],
   "source": [
    "import pandas as pd"
   ]
  },
  {
   "cell_type": "code",
   "execution_count": 8,
   "id": "315d322e",
   "metadata": {},
   "outputs": [
    {
     "name": "stdout",
     "output_type": "stream",
     "text": [
      "<class 'pandas.core.frame.DataFrame'>\n",
      "RangeIndex: 202718 entries, 0 to 202717\n",
      "Data columns (total 17 columns):\n",
      " #   Column                      Non-Null Count   Dtype  \n",
      "---  ------                      --------------   -----  \n",
      " 0   DATA_EXIBICAO               202718 non-null  object \n",
      " 1   TITULO_ORIGINAL             202718 non-null  object \n",
      " 2   TITULO_BRASIL               135789 non-null  object \n",
      " 3   CPB_ROE                     202718 non-null  object \n",
      " 4   PAIS_OBRA                   202718 non-null  object \n",
      " 5   REGISTRO_SALA               202227 non-null  float64\n",
      " 6   NOME_SALA                   202718 non-null  object \n",
      " 7   PUBLICO                     202718 non-null  int64  \n",
      " 8   REGISTRO_GRUPO_EXIBIDOR     181750 non-null  float64\n",
      " 9   REGISTRO_EXIBIDOR           202227 non-null  float64\n",
      " 10  REGISTRO_COMPLEXO           202227 non-null  float64\n",
      " 11  MUNICIPIO_SALA_COMPLEXO     202718 non-null  object \n",
      " 12  UF_SALA_COMPLEXO            202718 non-null  object \n",
      " 13  RAZAO_SOCIAL_DISTRIBUIDORA  202718 non-null  object \n",
      " 14  CNPJ_DISTRIBUIDORA          202718 non-null  object \n",
      " 15  NR_PROTOCOLO_ENVIO          202718 non-null  int64  \n",
      " 16  DATA_HORA_ENVIO_PROTOCOLO   202718 non-null  object \n",
      "dtypes: float64(4), int64(2), object(11)\n",
      "memory usage: 26.3+ MB\n"
     ]
    }
   ],
   "source": [
    "bilheteria = pd.read_csv('C:\\\\Users\\\\syafo\\\\OneDrive\\\\Documentos\\\\GitHub\\\\AgenciaNacionalDoCinema_ANCINE\\\\data\\\\2025\\\\BilheteriaDiariaObrasPorDistribuidoras-2025-01.csv', encoding='latin1', sep=';')\n",
    "bilheteria.info()"
   ]
  }
 ],
 "metadata": {
  "kernelspec": {
   "display_name": "AgenciaNacionalDoCinema_ANCINE-vryq8axX",
   "language": "python",
   "name": "python3"
  },
  "language_info": {
   "codemirror_mode": {
    "name": "ipython",
    "version": 3
   },
   "file_extension": ".py",
   "mimetype": "text/x-python",
   "name": "python",
   "nbconvert_exporter": "python",
   "pygments_lexer": "ipython3",
   "version": "3.11.5"
  }
 },
 "nbformat": 4,
 "nbformat_minor": 5
}
