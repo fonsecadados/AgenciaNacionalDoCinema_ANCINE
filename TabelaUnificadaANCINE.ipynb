{
 "cells": [
  {
   "cell_type": "code",
   "execution_count": 267,
   "metadata": {},
   "outputs": [
    {
     "name": "stdout",
     "output_type": "stream",
     "text": [
      "\n",
      "***Bem vindo(a) ao Projeto!***\n",
      "\n",
      "Para ler documentação: \"pj.doc.documentacao\"\n",
      "\n"
     ]
    }
   ],
   "source": [
    "import numpy as np\n",
    "import pandas as pd\n",
    "import geopandas as gpd\n",
    "import seaborn as sea\n",
    "from matplotlib import pyplot as plt\n",
    "from abrir_projeto import Projeto\n",
    "pj = Projeto()\n",
    "pj.abrir_projeto()\n",
    "#### 1.A - Exibição da Documentação basilar para navegação.\n",
    "\n",
    "def carregar():\n",
    "        \n",
    "        from pandas import DataFrame as pd\n",
    "\n",
    "        global agnts_economicos\n",
    "        agnts_economicos = pd(pj.df.agnts_economicos)\n",
    "        global atividade_economicas_agnts\n",
    "        atividade_economicas_agnts = pd(pj.df.atividade_economicas_agnts)\n",
    "        global proj_renuncia_fiscal\n",
    "        proj_renuncia_fiscal = pd(pj.df.proj_renuncia_fiscal)\n",
    "        global obras_n_publi_fomento_direto\n",
    "        obras_n_publi_fomento_direto = pd(pj.df.obras_n_publi_fomento_direto)\n",
    "        global obras_n_publi_investimento_fsa\n",
    "        obras_n_publi_investimento_fsa = pd(pj.df.obras_n_publi_investimento_fsa)\n",
    "        global processos_prestacao_contas\n",
    "        processos_prestacao_contas = pd(pj.df.processos_prestacao_contas)\n",
    "        global investidores_proj_renuncia_fiscal\n",
    "        investidores_proj_renuncia_fiscal = pd(pj.df.investidores_proj_renuncia_fiscal)\n",
    "        global produtoras_independentes\n",
    "        produtoras_independentes = pd(pj.df.produtoras_independentes)\n",
    "        global produtores_obras_n_publi\n",
    "        produtores_obras_n_publi = pd(pj.df.produtores_obras_n_publi)\n",
    "        global proj_fsa_desembolso\n",
    "        proj_fsa_desembolso = pd(pj.df.proj_fsa_desembolso)\n",
    "        global relacao_grupos_economicos\n",
    "        relacao_grupos_economicos = pd(pj.df.relacao_grupos_economicos)\n",
    "        global salas_complexos\n",
    "        salas_complexos = pd(pj.df.salas_complexos)    \n",
    "carregar()"
   ]
  },
  {
   "cell_type": "markdown",
   "metadata": {},
   "source": [
    "Criar Tabela Unificada - Agentes Econômicos"
   ]
  },
  {
   "cell_type": "markdown",
   "metadata": {},
   "source": [
    "Vamos unificar essa tabela partindo do referencial - Agentes Econômicos"
   ]
  },
  {
   "cell_type": "code",
   "execution_count": 289,
   "metadata": {},
   "outputs": [],
   "source": [
    "#Natureza Jurídica dos Agentes Econômicos\n",
    "\n",
    "#Todo Agente Econômico tem CNPJ e Registro na Ancine\n",
    "#Criando Dataframe merged Agentes Economicos Regulares x Atividades Economicas dos Agentes\n",
    "agnts_atividades_economicas = pd.merge(agnts_economicos, atividade_economicas_agnts, on='REGISTRO_ANCINE', how='inner')\n",
    "agnts_atividades_economicas = agnts_atividades_economicas[['REGISTRO_ANCINE', 'DATA_REGISTRO', 'RAZAO_SOCIAL_x', 'CNPJ_x',\n",
    "       'DATA_CONSTITUICAO', 'UF', 'MUNICIPIO', 'NATUREZA_JURIDICA', 'ATIVIDADE_ECONOMICA','CLASSIFICACAO_ATIVIDADE', 'BRASILEIRO_INDEPENDENTE']]\n",
    "\n",
    "agnts_atividades_economicas.rename(columns={'RAZAO_SOCIAL_x' : 'RAZAO_SOCIAL', 'CNPJ_x' : 'CNPJ'}, inplace=True) #corrigindo nomes das colunas\n",
    "\n",
    "agnts_atividades_economicas = agnts_atividades_economicas[agnts_atividades_economicas['CLASSIFICACAO_ATIVIDADE'] == 1] # filtrando a colunaClassificação de atividades para deixar apenas as principais, evitando agentes duplicados\n",
    "\n",
    "#Produtoras Independentes\n",
    "produtoras_independentes = produtoras_independentes[['REGISTRO_ANCINE', 'CLASSIFICACAO_NIVEL_PRODUTORA']]\n",
    "agnts_tabela_unificada = pd.merge(agnts_atividades_economicas, produtoras_independentes, how='outer', on='REGISTRO_ANCINE') # juntando tabela produtoras_independentes com agnts_atividades_aconomicas\n",
    "# agnts_tabela_unificada['CLASSIFICACAO_NIVEL_PRODUTORA'].fillna('0.0', inplace=True) # Preenchendo valor nulo \n",
    "agnts_tabela_unificada['PRODUTORA_INDEPENDENTE'] = agnts_tabela_unificada['CLASSIFICACAO_NIVEL_PRODUTORA'].notna()\n",
    "\n",
    "#Criando lista com as principais Atividades Econômicas da indústria cinematográfica\n",
    "\n",
    "atividade_economica = ['Atividades de produção cinematográfica, de vídeos e de programas de televisão não especificadas anteriormente',\n",
    "       'Atividades de pós-produção cinematográfica, de vídeos e de programas de televisão não especificadas anteriormente',\n",
    "       'Produção de filmes para publicidade',\n",
    "       'Atividades de produção de fotografias, exceto aérea e submarina',\n",
    "       'Filmagem de festas e eventos',\n",
    "       'Estúdios cinematográficos',\n",
    "       'Atividades de gravação de som e de edição de música',\n",
    "       'Produção musical',\n",
    "       'Distribuição cinematográfica, de vídeo e de programas de televisão',\n",
    "       'Serviços de mixagem sonora em produção audiovisual',\n",
    "       'Atividades de sonorização e de iluminação',\n",
    "       'Agências de publicidade',\n",
    "       'Atividades de produção de fotografias aéreas e submarinas',\n",
    "       'Atividades de exibição cinematográfica', 'Serviços de dublagem']\n",
    "\n",
    "\n",
    "agnts_tabela_unificada = agnts_tabela_unificada.loc[agnts_tabela_unificada['ATIVIDADE_ECONOMICA'].isin(atividade_economica)]\n",
    "agnts_tabela_unificada = agnts_tabela_unificada.drop_duplicates(subset=['CNPJ'])\n"
   ]
  },
  {
   "cell_type": "code",
   "execution_count": null,
   "metadata": {},
   "outputs": [],
   "source": [
    "#Produtor de Obra Não Publicitária\n",
    "produtor = produtores_obras_n_publi.drop_duplicates(subset=['PRODUTOR']).copy()\n",
    "produtor.loc[:,'PRODUTOR_OBRAS_NAO_PUBLICITARIAS'] = True\n",
    "produtor['PESSOA_FISICA'] = produtor['CNPJ_PRODUTOR'].replace({'PESSOA FÍSICA' : True}).map(lambda x: False if x != True else True)\n",
    "produtor['CNPJ_NAO_INFORMADO'] = produtor['CNPJ_PRODUTOR'].replace({'NÃO INFORMADO' : True}).map(lambda x: False if x != True else True)\n",
    "produtor = produtor[['PRODUTOR', 'CNPJ_PRODUTOR',\n",
    "       'PRODUTOR_OBRAS_NAO_PUBLICITARIAS', 'PESSOA_FISICA',\n",
    "       'CNPJ_NAO_INFORMADO']]\n",
    "produtor.rename(columns={'CNPJ_PRODUTOR': 'CNPJ'}, inplace=True)\n"
   ]
  },
  {
   "cell_type": "code",
   "execution_count": 292,
   "metadata": {},
   "outputs": [],
   "source": [
    "\n",
    "proj_fsa_desembolso.rename(columns={'CNPJ_PROPONENTE' : 'CNPJ'}, inplace=True)\n",
    "\n",
    "proj_fsa_desembolso.loc[proj_fsa_desembolso['VL_TOTAL_LIBERADO'].isnull(), 'VL_TOTAL_LIBERADO'] = 'NÃO LIBERADO'\n",
    "proj_fsa_desembolso.loc[proj_fsa_desembolso['DT_PRIMEIRO_DESEMBOLSO'].isnull(), 'DT_PRIMEIRO_DESEMBOLSO'] = 'NÃO LIBERADO'\n",
    "proj_fsa_desembolso.loc[proj_fsa_desembolso['RAZAO_SOCIAL_DISTRIBUIDORA_PROGRAMADORA'].isnull(), 'RAZAO_SOCIAL_DISTRIBUIDORA_PROGRAMADORA'] = 'SEM DISTRIBUIDORA/PROGRAMADORA'\n",
    "proj_fsa_desembolso.loc[proj_fsa_desembolso['CNPJ_DISTRIBUIDORA_PROGRAMADORA'].isnull(), 'CNPJ_DISTRIBUIDORA_PROGRAMADORA'] = 'SEM DISTRIBUIDORA/PROGRAMADORA'\n",
    "proj_fsa_desembolso.loc[proj_fsa_desembolso['TITULO_PROJETO'].isnull(), 'TITULO_PROJETO'] = 'SEM TÍTULO'\n",
    "proj_fsa_desembolso.loc[proj_fsa_desembolso['CNPJ_PRODUTORA'].isnull(), 'CNPJ_PRODUTORA'] = 'SEM PRODUTORA'\n",
    "proj_fsa_desembolso.loc[proj_fsa_desembolso['RAZAO_SOCIAL_PRODUTORA'].isnull(), 'RAZAO_SOCIAL_PRODUTORA'] = 'SEM PRODUTORA'\n"
   ]
  }
 ],
 "metadata": {
  "kernelspec": {
   "display_name": "Python 3",
   "language": "python",
   "name": "python3"
  },
  "language_info": {
   "codemirror_mode": {
    "name": "ipython",
    "version": 3
   },
   "file_extension": ".py",
   "mimetype": "text/x-python",
   "name": "python",
   "nbconvert_exporter": "python",
   "pygments_lexer": "ipython3",
   "version": "3.11.8"
  }
 },
 "nbformat": 4,
 "nbformat_minor": 2
}
