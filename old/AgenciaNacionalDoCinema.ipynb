{
 "cells": [
  {
   "cell_type": "markdown",
   "metadata": {},
   "source": [
    "### Agência Nacional do Cinema - ANCINE\n",
    "\n",
    "#### Desafios e Oportunidades na Indústria Cinematográfica Brasileira: Uma Análise de Ciência de Dados\n",
    "\n",
    "#### **Contexto de Negócio**\n",
    "\n",
    "A qualidade e a amplitude da indústria cinematográfica de um país são reflexos não apenas da sua cultura e sociedade, mas também das suas aspirações, desafios e conquistas. No Brasil, embora a indústria cinematográfica seja ativa e produza um número considerável de filmes anualmente em comparação com países de economias semelhantes, ela enfrenta uma batalha cultural com o cinema estrangeiro, principalmente o americano.\n",
    "\n",
    "O consumo de entretenimento audiovisual no Brasil é largamente dominado pela indústria americana, em parte devido à sua habilidade de produzir filmes com grandes orçamentos e alto apelo comercial. Isso coloca as produções locais em uma competição desafiadora, muitas vezes com recursos financeiros e de marketing limitados em comparação com seus concorrentes estrangeiros.\n",
    "\n",
    "Um dos principais fatores a considerar é a disparidade no acesso aos recursos dentro da indústria cinematográfica. Enquanto grandes estúdios e produções de alto orçamento geralmente conseguem financiamento e apoio comercial mais facilmente, cineastas independentes e produções de menor escala muitas vezes enfrentam dificuldades para garantir financiamento e distribuição adequada.\n",
    "\n",
    "Além disso, as políticas públicas e os incentivos governamentais desempenham um papel crucial na sustentabilidade da indústria cinematográfica nacional. Investimentos em programas de financiamento, subsídios e incentivos fiscais podem ajudar a impulsionar a produção local e promover uma maior diversidade de vozes e perspectivas no cinema brasileiro.\n",
    "\n",
    "___\n",
    "\n",
    "#### **Objetivo**  \n",
    "\n",
    "O objetivo principal deste projeto é analisar dados da indústria cinematográfica brasileira para entender melhor os desafios enfrentados e identificar possíveis soluções para promover um ambiente mais sustentável e diversificado para a produção nacional de filmes.\n",
    "\n",
    "---\n",
    "#### **Metodologia**  \n",
    "\n",
    "Utilizaremos uma abordagem de ciência de dados, com análise exploratória dos dados fornecidos pela ANCINE, incluindo registros de agentes econômicos, atividades na indústria, financiamento de projetos, perfil de investidores e realizadores, entre outros. Faremos uso de técnicas estatísticas e de visualização de dados para identificar padrões e tendências relevantes.\n",
    "\n",
    "---\n",
    "\n",
    "#### **Desafios Identificados**  \n",
    "\n",
    "Disparidade no Acesso a Recursos: Acesso desigual aos recursos dentro da indústria cinematográfica, com grandes estúdios e produções de alto orçamento tendo vantagens significativas em relação a cineastas independentes.\n",
    "\n",
    "Domínio do Cinema Estrangeiro: Predomínio do cinema estrangeiro, principalmente o americano, no mercado brasileiro, o que cria uma competição desigual para as produções locais.\n",
    "\n",
    "---\n",
    "\n",
    "#### **Possíveis Soluções**  \n",
    "\n",
    "**Incentivos Governamentais:** Implementação de políticas públicas e incentivos governamentais para promover a produção local, como subsídios, incentivos fiscais e programas de financiamento específicos para cineastas independentes.\n",
    "\n",
    "**Promoção da Diversidade:** Apoio e promoção de uma maior diversidade de vozes e perspectivas na indústria cinematográfica brasileira, através de programas de apoio a produções de menor escala e de nicho.\n",
    "\n",
    "---\n",
    "\n",
    "\n",
    "#### **Conclusão**  \n",
    "\n",
    "Este projeto de ciência de dados visa fornecer insights valiosos sobre os desafios enfrentados pela indústria cinematográfica brasileira e propor possíveis soluções para promover um ambiente mais sustentável e diversificado para a produção nacional de filmes. Ao compreender melhor o contexto sócio-econômico da indústria, esperamos contribuir para o fortalecimento e crescimento do cinema brasileiro.\n",
    "\n",
    "---\n",
    "\n",
    "\n"
   ]
  },
  {
   "cell_type": "markdown",
   "metadata": {},
   "source": [
    "#### **Perguntas-chave**\n",
    "\n",
    "**Quais são os principais agentes econômicos atuantes na indústria cinematográfica brasileira?**  \n",
    "\n",
    "**Qual é a distribuição geográfica das produções cinematográficas no Brasil? Há concentração em determinadas regiões?**  \n",
    "\n",
    "**Qual é o perfil dos investidores na indústria cinematográfica brasileira? Há diferenças significativas entre investidores de produções de grande escala e produções independentes?**  \n",
    "\n",
    "**Como tem evoluído o financiamento de projetos cinematográficos ao longo do tempo? Há tendências ou padrões identificáveis?** \n",
    "\n",
    "**Qual é o perfil dos realizadores e produtores de filmes no Brasil? Há diversidade em termos de gênero, etnia e origem socioeconômica?**\n",
    "\n",
    "**Quais são os gêneros cinematográficos mais populares no Brasil? Há diferenças regionais em termos de preferências de público?**  \n",
    "\n",
    "**Como tem sido a distribuição de recursos financeiros e de marketing entre produções de diferentes escalas e orçamentos?**  \n",
    "\n",
    "**Quais são os principais desafios enfrentados pelos cineastas independentes na produção e distribuição de seus filmes?**  \n",
    "\n",
    "**Qual é o impacto das políticas públicas e dos incentivos governamentais na indústria cinematográfica brasileira?**  \n",
    "\n",
    "**Como tem sido a recepção crítica e comercial das produções cinematográficas brasileiras em comparação com as produções estrangeiras?**  \n",
    "\n",
    "**Quais são os principais obstáculos para a distribuição e exibição de filmes brasileiros nos mercados nacional e internacional?**  "
   ]
  },
  {
   "cell_type": "markdown",
   "metadata": {},
   "source": [
    "---"
   ]
  },
  {
   "cell_type": "markdown",
   "metadata": {},
   "source": [
    "Abrindo Projeto"
   ]
  },
  {
   "cell_type": "code",
   "execution_count": 1,
   "metadata": {},
   "outputs": [
    {
     "name": "stdout",
     "output_type": "stream",
     "text": [
      "\n",
      "***Bem vindo(a) ao Projeto!***\n",
      "\n",
      "Para ler documentação: \"pj.doc.documentacao\"\n",
      "\n"
     ]
    }
   ],
   "source": [
    "from abrir_projeto import Projeto\n",
    "pj = Projeto()\n",
    "pj.abrir_projeto()"
   ]
  },
  {
   "cell_type": "code",
   "execution_count": 2,
   "metadata": {},
   "outputs": [
    {
     "name": "stdout",
     "output_type": "stream",
     "text": [
      "**** DOCUMENTAÇÃO DO PROJETO ****\n",
      "***Agência Nacional do Cinema***\n",
      "\n",
      "Cada Arquivo CSV contém uma variável raíz e um \n",
      "número de referência para variáveis específicas.\n",
      "*\n",
      "*\n",
      "Para chamar variável no Jupyter Notebook digite: \"df.\" + variável\n",
      "*\n",
      "Para chamar variável específica digite: \"df.\" + \"variável_especifica\" + número\n",
      "*\n",
      "*\n",
      "Nome arquivo CSV | Nome variável raíz | Número variável específica\n",
      "-\n",
      "Agentes Econômicos Regulares = agnts_economicos = 1  \n",
      "Atividades Economicas dos Agentes Regulares = atividade_economicas_agnts = 2 \n",
      "Projetos Renúncia Fiscal = proj_renuncia_fiscal = 3  \n",
      "Obras não Publicitárias Brasileiras - Fomento Indireto = obras_n_publi_fomento_direto =  4 \n",
      "Obras não Publcitárias Brasileiras - Investimento FSA = obras_n_publi_investimento_fsa =  5 \n",
      "Processos de Prestação de contas = processos_prestacao_contas = 6  \n",
      "Investidores de projetos de Renúncia Fiscal = investidores_proj_renuncia_fiscal = 7   \n",
      "Produtoras Independentes = produtoras_independentes = 8 \n",
      "Produtores de obra não Publicitárias Brasileiras = produtores_obras_n_publi = 9 \n",
      "Projetos contratados - FSA e Desembolso = proj_fsa_desembolso = 10  \n",
      "Relação de Grupos Econômicos = relacao_grupos_economicos = 11\n",
      "Salas de Exibição e Complexos = salas_complexos = 12\n",
      "*\n",
      "*\n",
      "Para exibir documentação de arquivo de dados, chamar função: documentacao_especifica()\n",
      "argumento: variável raíz\n",
      "**\n",
      "Para exibir lista de funções úteis: indice_funcao()\n"
     ]
    }
   ],
   "source": [
    "pj.doc.documentacao()"
   ]
  },
  {
   "cell_type": "code",
   "execution_count": 3,
   "metadata": {},
   "outputs": [],
   "source": [
    "#Carregar variáveis no ambiente local (Método para economizar tempo de digitação)\n",
    "def carregar():\n",
    "        \n",
    "        from pandas import DataFrame as pd\n",
    "\n",
    "        global agnts_economicos\n",
    "        agnts_economicos = pd(pj.df.agnts_economicos)\n",
    "        global atividade_economicas_agnts\n",
    "        atividade_economicas_agnts = pd(pj.df.atividade_economicas_agnts)\n",
    "        global proj_renuncia_fiscal\n",
    "        proj_renuncia_fiscal = pd(pj.df.proj_renuncia_fiscal)\n",
    "        global obras_n_publi_fomento_direto\n",
    "        obras_n_publi_fomento_direto = pd(pj.df.obras_n_publi_fomento_direto)\n",
    "        global obras_n_publi_investimento_fsa\n",
    "        obras_n_publi_investimento_fsa = pd(pj.df.obras_n_publi_investimento_fsa)\n",
    "        global processos_prestacao_contas\n",
    "        processos_prestacao_contas = pd(pj.df.processos_prestacao_contas)\n",
    "        global investidores_proj_renuncia_fiscal\n",
    "        investidores_proj_renuncia_fiscal = pd(pj.df.investidores_proj_renuncia_fiscal)\n",
    "        global produtoras_independentes\n",
    "        produtoras_independentes = pd(pj.df.produtoras_independentes)\n",
    "        global produtores_obras_n_publi\n",
    "        produtores_obras_n_publi = pd(pj.df.produtores_obras_n_publi)\n",
    "        global proj_fsa_desembolso\n",
    "        proj_fsa_desembolso = pd(pj.df.proj_fsa_desembolso)\n",
    "        global relacao_grupos_economicos\n",
    "        relacao_grupos_economicos = pd(pj.df.relacao_grupos_economicos)\n",
    "        global salas_complexos\n",
    "        salas_complexos = pd(pj.df.salas_complexos)    \n",
    "carregar()"
   ]
  },
  {
   "cell_type": "code",
   "execution_count": 4,
   "metadata": {},
   "outputs": [],
   "source": [
    "# #Tentativa de melhorar função carregar() -  NÃO EXCLUIR\n",
    "# def carregar():\n",
    "#     from pandas import DataFrame as pd\n",
    "\n",
    "#     variaveis_a_carregar = [\n",
    "#         'agnts_economicos', 'atividade_economicas_agnts', 'proj_renuncia_fiscal',\n",
    "#         'obras_n_publi_fomento_direto', 'obras_n_publi_investimento_fsa',\n",
    "#         'processos_prestacao_contas', 'investidores_proj_renuncia_fiscal',\n",
    "#         'produtoras_independentes', 'produtores_obras_n_publi',\n",
    "#         'proj_fsa_desembolso', 'relacao_grupos_economicos', 'salas_complexos'\n",
    "#     ]\n",
    "#     global variavel\n",
    "#     for variavel in variaveis_a_carregar:\n",
    "#         variavel = pd(pj.df.variavel)\n",
    "# carregar()"
   ]
  },
  {
   "cell_type": "markdown",
   "metadata": {},
   "source": [
    "---"
   ]
  }
 ],
 "metadata": {
  "kernelspec": {
   "display_name": "Python 3",
   "language": "python",
   "name": "python3"
  },
  "language_info": {
   "codemirror_mode": {
    "name": "ipython",
    "version": 3
   },
   "file_extension": ".py",
   "mimetype": "text/x-python",
   "name": "python",
   "nbconvert_exporter": "python",
   "pygments_lexer": "ipython3",
   "version": "3.11.8"
  }
 },
 "nbformat": 4,
 "nbformat_minor": 2
}
