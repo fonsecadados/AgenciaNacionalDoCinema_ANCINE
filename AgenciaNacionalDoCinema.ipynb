{
 "cells": [
  {
   "cell_type": "markdown",
   "metadata": {},
   "source": [
    "### Agência Nacional do Cinema - ANCINE\n",
    "\n",
    "#### Desafios e Oportunidades na Indústria Cinematográfica Brasileira: Uma Análise de Ciência de Dados\n",
    "\n",
    "#### **Contexto de Negócio**\n",
    "\n",
    "A qualidade e a amplitude da indústria cinematográfica de um país são reflexos não apenas da sua cultura e sociedade, mas também das suas aspirações, desafios e conquistas. No Brasil, embora a indústria cinematográfica seja ativa e produza um número considerável de filmes anualmente em comparação com países de economias semelhantes, ela enfrenta uma batalha cultural com o cinema estrangeiro, principalmente o americano.\n",
    "\n",
    "O consumo de entretenimento audiovisual no Brasil é largamente dominado pela indústria americana, em parte devido à sua habilidade de produzir filmes com grandes orçamentos e alto apelo comercial. Isso coloca as produções locais em uma competição desafiadora, muitas vezes com recursos financeiros e de marketing limitados em comparação com seus concorrentes estrangeiros.\n",
    "\n",
    "Um dos principais fatores a considerar é a disparidade no acesso aos recursos dentro da indústria cinematográfica. Enquanto grandes estúdios e produções de alto orçamento geralmente conseguem financiamento e apoio comercial mais facilmente, cineastas independentes e produções de menor escala muitas vezes enfrentam dificuldades para garantir financiamento e distribuição adequada.\n",
    "\n",
    "Além disso, as políticas públicas e os incentivos governamentais desempenham um papel crucial na sustentabilidade da indústria cinematográfica nacional. Investimentos em programas de financiamento, subsídios e incentivos fiscais podem ajudar a impulsionar a produção local e promover uma maior diversidade de vozes e perspectivas no cinema brasileiro.\n",
    "\n",
    "___\n",
    "\n",
    "#### **Objetivo**  \n",
    "\n",
    "O objetivo principal deste projeto é analisar dados da indústria cinematográfica brasileira para entender melhor os desafios enfrentados e identificar possíveis soluções para promover um ambiente mais sustentável e diversificado para a produção nacional de filmes.\n",
    "\n",
    "---\n",
    "#### **Metodologia**  \n",
    "\n",
    "Utilizaremos uma abordagem de ciência de dados, com análise exploratória dos dados fornecidos pela ANCINE, incluindo registros de agentes econômicos, atividades na indústria, financiamento de projetos, perfil de investidores e realizadores, entre outros. Faremos uso de técnicas estatísticas e de visualização de dados para identificar padrões e tendências relevantes.\n",
    "\n",
    "---\n",
    "\n",
    "#### **Desafios Identificados**  \n",
    "\n",
    "Disparidade no Acesso a Recursos: Acesso desigual aos recursos dentro da indústria cinematográfica, com grandes estúdios e produções de alto orçamento tendo vantagens significativas em relação a cineastas independentes.\n",
    "\n",
    "Domínio do Cinema Estrangeiro: Predomínio do cinema estrangeiro, principalmente o americano, no mercado brasileiro, o que cria uma competição desigual para as produções locais.\n",
    "\n",
    "---\n",
    "\n",
    "#### **Possíveis Soluções**  \n",
    "\n",
    "**Incentivos Governamentais:** Implementação de políticas públicas e incentivos governamentais para promover a produção local, como subsídios, incentivos fiscais e programas de financiamento específicos para cineastas independentes.\n",
    "\n",
    "**Promoção da Diversidade:** Apoio e promoção de uma maior diversidade de vozes e perspectivas na indústria cinematográfica brasileira, através de programas de apoio a produções de menor escala e de nicho.\n",
    "\n",
    "---\n",
    "\n",
    "\n",
    "#### **Conclusão**  \n",
    "\n",
    "Este projeto de ciência de dados visa fornecer insights valiosos sobre os desafios enfrentados pela indústria cinematográfica brasileira e propor possíveis soluções para promover um ambiente mais sustentável e diversificado para a produção nacional de filmes. Ao compreender melhor o contexto sócio-econômico da indústria, esperamos contribuir para o fortalecimento e crescimento do cinema brasileiro.\n",
    "\n",
    "---\n",
    "\n",
    "\n"
   ]
  },
  {
   "cell_type": "markdown",
   "metadata": {},
   "source": [
    "#### **Perguntas-chave**\n",
    "\n",
    "**Quais são os principais agentes econômicos atuantes na indústria cinematográfica brasileira?**  \n",
    "\n",
    "**Qual é a distribuição geográfica das produções cinematográficas no Brasil? Há concentração em determinadas regiões?**  \n",
    "\n",
    "**Qual é o perfil dos investidores na indústria cinematográfica brasileira? Há diferenças significativas entre investidores de produções de grande escala e produções independentes?**  \n",
    "\n",
    "**Como tem evoluído o financiamento de projetos cinematográficos ao longo do tempo? Há tendências ou padrões identificáveis?** \n",
    "\n",
    "**Qual é o perfil dos realizadores e produtores de filmes no Brasil? Há diversidade em termos de gênero, etnia e origem socioeconômica?**\n",
    "\n",
    "**Quais são os gêneros cinematográficos mais populares no Brasil? Há diferenças regionais em termos de preferências de público?**  \n",
    "\n",
    "**Como tem sido a distribuição de recursos financeiros e de marketing entre produções de diferentes escalas e orçamentos?**  \n",
    "\n",
    "**Quais são os principais desafios enfrentados pelos cineastas independentes na produção e distribuição de seus filmes?**  \n",
    "\n",
    "**Qual é o impacto das políticas públicas e dos incentivos governamentais na indústria cinematográfica brasileira?**  \n",
    "\n",
    "**Como tem sido a recepção crítica e comercial das produções cinematográficas brasileiras em comparação com as produções estrangeiras?**  \n",
    "\n",
    "**Quais são os principais obstáculos para a distribuição e exibição de filmes brasileiros nos mercados nacional e internacional?**  "
   ]
  },
  {
   "cell_type": "markdown",
   "metadata": {},
   "source": [
    "---"
   ]
  },
  {
   "cell_type": "markdown",
   "metadata": {},
   "source": [
    "#### **Varáveis**\n",
    "\n",
    "##### **Leitura dos dados brutos**\n",
    "df_agentes_economicos  \n",
    "df_atividades_agentes_economicos  \n",
    "df_projetos_renuncia_fiscal  \n",
    "df_obras_nao_publicitaria_fomento_indireto  \n",
    "df_obras_nao_publicitaria_investimento_fsa  \n",
    "df_processos_em_prestação_de_contas  \n",
    "df_investidores_projetos_renuncia_fiscal  \n",
    "df_produtoras_independentes  \n",
    "df_produtores_obras_nao_publicitarias_brasileiras  \n",
    "df_projetos_contratados_fsa_desembolso  \n",
    "df_projetos_renuncia_fiscal  \n",
    "df_salas_e_complexos  "
   ]
  },
  {
   "cell_type": "markdown",
   "metadata": {},
   "source": [
    "#### Importação das Bibliotecas"
   ]
  },
  {
   "cell_type": "code",
   "execution_count": 1,
   "metadata": {},
   "outputs": [],
   "source": [
    "import pandas as pd\n",
    "import numpy as np\n",
    "import seaborn as sea\n",
    "from matplotlib import pyplot as plt\n",
    "import os\n",
    "import csv"
   ]
  },
  {
   "cell_type": "markdown",
   "metadata": {},
   "source": [
    "#### Carregamento dos dataframes"
   ]
  },
  {
   "cell_type": "code",
   "execution_count": 2,
   "metadata": {},
   "outputs": [],
   "source": [
    "#Leitura dos data frames\n",
    "df_agentes_economicos = pd.read_csv('AgentesEconomicosRegulares.csv',encoding='latin1', sep=';')\n",
    "df_atividades_economicas_agentes = pd.read_csv('AtividadesEconomicasAgentesRegulares.csv', encoding='latin1', sep=';')\n",
    "df_projetos_renuncia_fiscal = pd.read_csv('ProjetosRenunciaFiscal.csv', encoding='latin1', sep=';') \n",
    "df_obras_nao_publicitaria_fomento_indireto = pd.read_csv('ObrasNaoPubBrasileirasFomentoIndireto.csv', encoding='utf-16be', sep=';') #Encoding configurado no bloco de notas\n",
    "df_obras_nao_publicitaria_investimento_fsa = pd.read_csv('ObrasNaoPubBrasileirasInvestimentoFsa.csv', encoding='utf-16be', sep=';') #Encoding configurado no bloco de notas\n",
    "df_processos_em_prestação_de_contas = pd.read_csv('ProcessosEmPrestacaoDeContas.csv', encoding='latin1', sep=';') \n",
    "df_investidores_projetos_renuncia_fiscal = pd.read_csv('InvestidoresEmProjetosRenunciaFiscal.csv', encoding='latin1', sep=';') \n",
    "df_produtoras_independentes = pd.read_csv('ProdutorasIndependentes.csv', encoding='latin1', sep=';') \n",
    "df_produtores_obras_nao_publicitarias_brasileiras = pd.read_csv('ProdutoresDeObrasNaoPublicitariasBrasileiras.csv', encoding='latin1', sep=';') \n",
    "df_projetos_contratados_fsa_desembolso = pd.read_csv('ProjetosContratadosFSAeDesembolso.csv', encoding='latin1', sep=';') \n",
    "df_relacao_grupos_economicos = pd.read_csv('RelacaoGruposEconomicos.csv', encoding='latin1', sep=';') \n",
    "df_salas_e_complexos = pd.read_csv('SalasDeExibicaoEComplexos.csv', encoding='latin1', sep=';') \n",
    "\n",
    "#Declaração de variáveis\n",
    "# df_agentes_economicos\n",
    "# df_atividades_economicas_agentes\n",
    "# df_projetos_renuncia_fiscal\n",
    "# df_obras_nao_publicitaria_fomento_indireto\n",
    "# df_obras_nao_publicitaria_investimento_fsa\n",
    "# df_processos_em_prestação_de_contas\n",
    "# df_investidores_projetos_renuncia_fiscal\n",
    "# df_produtoras_independentes\n",
    "# df_produtores_obras_nao_publicitarias_brasileiras\n",
    "# df_projetos_contratados_fsa_desembolso\n",
    "# df_projetos_renuncia_fiscal\n",
    "# df_salas_e_complexos"
   ]
  },
  {
   "cell_type": "markdown",
   "metadata": {},
   "source": [
    "### Limpeza, filtragem e declaração de variáveis dos Dados"
   ]
  },
  {
   "cell_type": "markdown",
   "metadata": {},
   "source": [
    "#### Numeração dos dados para auxiliar na referencição em variáveis diversas\n",
    "\n",
    "AgentesEconomicosRegulares = 1  \n",
    "AtividadesEconomicasAgentesRegulares = 2  \n",
    "ProjetosRenunciaFiscal = 3  \n",
    "ObrasNaoPubBrasileirasFomentoIndireto = 4  \n",
    "ObrasNaoPubBrasileirasInvestimentoFsa = 5  \n",
    "ProcessosEmPrestacaoDeContas = 6  \n",
    "InvestidoresEmProjetosRenunciaFiscal = 7  \n",
    "ProdutorasIndependentes = 8  \n",
    "ProdutoresDeObrasNaoPublicitariasBrasileiras = 9  \n",
    "ProjetosContratadosFSAeDesembolso = 10  \n",
    "RelacaoGruposEconomicos = 11  \n",
    "SalasDeExibicaoEComplexos = 12  \n",
    " \n"
   ]
  },
  {
   "cell_type": "code",
   "execution_count": 9,
   "metadata": {},
   "outputs": [],
   "source": [
    "#Agentes Econômicos - 1\n",
    "agnts_economicos = pd.DataFrame(df_agentes_economicos)\n",
    "mapping_1 = {'SIM' : True, 'NÃO' : False}\n",
    "\n",
    "#adequando colunas\n",
    "agnts_economicos['DATA_REGISTRO'] = pd.to_datetime(agnts_economicos['DATA_REGISTRO'], dayfirst=True)\n",
    "agnts_economicos['DATA_CONSTITUICAO'] = pd.to_datetime(agnts_economicos['DATA_CONSTITUICAO'], dayfirst=True)\n",
    "agnts_economicos['BRASILEIRO_INDEPENDENTE'] = agnts_economicos['BRASILEIRO_INDEPENDENTE'].map(mapping_1)\n",
    "\n",
    "# agnts_economicos\n",
    "\n",
    "###########################\n",
    "\n",
    "#Atividade Econômica Agentes - 2\n",
    "atividade_economicas_agnts = pd.DataFrame(df_atividades_economicas_agentes)\n",
    "mapping_2 = {'SECUNDARIA' : 1, 'PRINCIPAL' : 0}\n",
    "\n",
    "#adequando colunas\n",
    "atividade_economicas_agnts['CLASSIFICACAO_ATIVIDADE'] = atividade_economicas_agnts['CLASSIFICACAO_ATIVIDADE'].map(mapping_2)\n",
    "\n",
    "############################\n",
    "\n",
    "#ProjetosRenunciaFiscal - 3\n",
    "\n",
    "# df_projetos_renuncia_fiscal\n",
    "\n",
    "############################\n",
    "\n",
    "#ObrasNaoPubBrasileirasFomentoIndireto - 4\n",
    "\n",
    "# df_obras_nao_publicitaria_fomento_indireto\n",
    "\n",
    "############################\n",
    "# df_obras_nao_publicitaria_investimento_fsa\n",
    "# df_processos_em_prestação_de_contas\n",
    "# df_investidores_projetos_renuncia_fiscal\n",
    "# df_produtoras_independentes\n",
    "# df_produtores_obras_nao_publicitarias_brasileiras\n",
    "# df_projetos_contratados_fsa_desembolso\n",
    "# df_projetos_renuncia_fiscal\n",
    "# df_salas_e_complexos"
   ]
  },
  {
   "cell_type": "code",
   "execution_count": 20,
   "metadata": {},
   "outputs": [
    {
     "name": "stdout",
     "output_type": "stream",
     "text": [
      "<class 'pandas.core.frame.DataFrame'>\n",
      "RangeIndex: 136112 entries, 0 to 136111\n",
      "Data columns (total 5 columns):\n",
      " #   Column                   Non-Null Count   Dtype \n",
      "---  ------                   --------------   ----- \n",
      " 0   REGISTRO_ANCINE          136112 non-null  int64 \n",
      " 1   RAZAO_SOCIAL             136112 non-null  object\n",
      " 2   CNPJ                     136112 non-null  object\n",
      " 3   CLASSIFICACAO_ATIVIDADE  136112 non-null  int64 \n",
      " 4   ATIVIDADE_ECONOMICA      136112 non-null  object\n",
      "dtypes: int64(2), object(3)\n",
      "memory usage: 5.2+ MB\n"
     ]
    }
   ],
   "source": [
    "atividade_economicas_agnts.info()"
   ]
  },
  {
   "cell_type": "code",
   "execution_count": 5,
   "metadata": {},
   "outputs": [
    {
     "data": {
      "text/plain": [
       "Series([], Name: count, dtype: int64)"
      ]
     },
     "execution_count": 5,
     "metadata": {},
     "output_type": "execute_result"
    }
   ],
   "source": [
    "atividade_economicas_agnts['CLASSIFICACAO_ATIVIDADE'].value_counts()"
   ]
  }
 ],
 "metadata": {
  "kernelspec": {
   "display_name": "Python 3",
   "language": "python",
   "name": "python3"
  },
  "language_info": {
   "codemirror_mode": {
    "name": "ipython",
    "version": 3
   },
   "file_extension": ".py",
   "mimetype": "text/x-python",
   "name": "python",
   "nbconvert_exporter": "python",
   "pygments_lexer": "ipython3",
   "version": "3.11.8"
  }
 },
 "nbformat": 4,
 "nbformat_minor": 2
}
