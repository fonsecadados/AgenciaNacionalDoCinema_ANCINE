{
 "cells": [
  {
   "cell_type": "markdown",
   "metadata": {},
   "source": [
    "### Agência Nacional do Cinema - ANCINE\n",
    "\n",
    "#### Desafios e Oportunidades na Indústria Cinematográfica Brasileira: Uma Análise de Ciência de Dados"
   ]
  },
  {
   "cell_type": "markdown",
   "metadata": {},
   "source": [
    "---"
   ]
  },
  {
   "cell_type": "markdown",
   "metadata": {},
   "source": [
    "Título do Notebook"
   ]
  },
  {
   "cell_type": "markdown",
   "metadata": {},
   "source": [
    "---"
   ]
  },
  {
   "cell_type": "markdown",
   "metadata": {},
   "source": [
    "Abrindo Projeto"
   ]
  },
  {
   "cell_type": "code",
   "execution_count": 5,
   "metadata": {},
   "outputs": [
    {
     "name": "stdout",
     "output_type": "stream",
     "text": [
      "\n",
      "***Bem vindo(a) ao Projeto!***\n",
      "\n",
      "Para ler documentação: \"pj.doc.documentacao\"\n",
      "\n"
     ]
    }
   ],
   "source": [
    "from abrir_projeto import Projeto\n",
    "pj = Projeto()\n",
    "pj.abrir_projeto()"
   ]
  },
  {
   "cell_type": "code",
   "execution_count": 6,
   "metadata": {},
   "outputs": [
    {
     "name": "stdout",
     "output_type": "stream",
     "text": [
      "**** DOCUMENTAÇÃO DO PROJETO ****\n",
      "***Agência Nacional do Cinema***\n",
      "\n",
      "Cada Arquivo CSV contém uma variável raíz e um \n",
      "número de referência para variáveis específicas.\n",
      "*\n",
      "*\n",
      "Para chamar variável no Jupyter Notebook digite: \"df.\" + variável\n",
      "*\n",
      "Para chamar variável específica digite: \"df.\" + \"variável_especifica\" + número\n",
      "*\n",
      "*\n",
      "Nome arquivo CSV | Nome variável raíz | Número variável específica\n",
      "-\n",
      "Agentes Econômicos Regulares = agnts_economicos = 1  \n",
      "Atividades Economicas dos Agentes Regulares = atividade_economicas_agnts = 2 \n",
      "Projetos Renúncia Fiscal = proj_renuncia_fiscal = 3  \n",
      "Obras não Publicitárias Brasileiras - Fomento Indireto = obras_n_publi_fomento_direto =  4 \n",
      "Obras não Publcitárias Brasileiras - Investimento FSA = obras_n_publi_investimento_fsa =  5 \n",
      "Processos de Prestação de contas = processos_prestacao_contas = 6  \n",
      "Investidores de projetos de Renúncia Fiscal = investidores_proj_renuncia_fiscal = 7   \n",
      "Produtoras Independentes = produtoras_independentes = 8 \n",
      "Produtores de obra não Publicitárias Brasileiras = produtores_obras_n_publi = 9 \n",
      "Projetos contratados - FSA e Desembolso = proj_fsa_desembolso = 10  \n",
      "Relação de Grupos Econômicos = relacao_grupos_economicos = 11\n",
      "Salas de Exibição e Complexos = salas_complexos = 12\n",
      "*\n",
      "*\n",
      "Para exibir documentação de arquivo de dados, chamar função: documentacao_especifica()\n",
      "argumento: variável raíz\n",
      "**\n",
      "FUNÇÕES ÙTEIS\n",
      "\n",
      "Função para buscar valores nulos: pj.df.achar_valores_nulos(variável)\n",
      "\n"
     ]
    }
   ],
   "source": [
    "pj.doc.documentacao()"
   ]
  },
  {
   "cell_type": "code",
   "execution_count": 7,
   "metadata": {},
   "outputs": [],
   "source": [
    "#Carregar variáveis no ambiente local (Método para economizar tempo de digitação)\n",
    "def carregar():\n",
    "        \n",
    "        from pandas import DataFrame as pd\n",
    "\n",
    "        global agnts_economicos\n",
    "        agnts_economicos = pd(pj.df.agnts_economicos)\n",
    "        global atividade_economicas_agnts\n",
    "        atividade_economicas_agnts = pd(pj.df.atividade_economicas_agnts)\n",
    "        global proj_renuncia_fiscal\n",
    "        proj_renuncia_fiscal = pd(pj.df.proj_renuncia_fiscal)\n",
    "        global obras_n_publi_fomento_direto\n",
    "        obras_n_publi_fomento_direto = pd(pj.df.obras_n_publi_fomento_direto)\n",
    "        global obras_n_publi_investimento_fsa\n",
    "        obras_n_publi_investimento_fsa = pd(pj.df.obras_n_publi_investimento_fsa)\n",
    "        global processos_prestacao_contas\n",
    "        processos_prestacao_contas = pd(pj.df.processos_prestacao_contas)\n",
    "        global investidores_proj_renuncia_fiscal\n",
    "        investidores_proj_renuncia_fiscal = pd(pj.df.investidores_proj_renuncia_fiscal)\n",
    "        global produtoras_independentes\n",
    "        produtoras_independentes = pd(pj.df.produtoras_independentes)\n",
    "        global produtores_obras_n_publi\n",
    "        produtores_obras_n_publi = pd(pj.df.produtores_obras_n_publi)\n",
    "        global proj_fsa_desembolso\n",
    "        proj_fsa_desembolso = pd(pj.df.proj_fsa_desembolso)\n",
    "        global relacao_grupos_economicos\n",
    "        relacao_grupos_economicos = pd(pj.df.relacao_grupos_economicos)\n",
    "        global salas_complexos\n",
    "        salas_complexos = pd(pj.df.salas_complexos)    \n",
    "carregar()"
   ]
  },
  {
   "cell_type": "markdown",
   "metadata": {},
   "source": [
    "---"
   ]
  }
 ],
 "metadata": {
  "kernelspec": {
   "display_name": "Python 3",
   "language": "python",
   "name": "python3"
  },
  "language_info": {
   "codemirror_mode": {
    "name": "ipython",
    "version": 3
   },
   "file_extension": ".py",
   "mimetype": "text/x-python",
   "name": "python",
   "nbconvert_exporter": "python",
   "pygments_lexer": "ipython3",
   "version": "3.11.8"
  }
 },
 "nbformat": 4,
 "nbformat_minor": 2
}
